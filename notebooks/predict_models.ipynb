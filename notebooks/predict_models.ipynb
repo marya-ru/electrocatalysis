{
 "cells": [
  {
   "cell_type": "code",
   "execution_count": 1,
   "metadata": {},
   "outputs": [],
   "source": [
    "import joblib\n",
    "import pandas as pd\n",
    "import warnings\n",
    "warnings.filterwarnings(\"ignore\")"
   ]
  },
  {
   "cell_type": "markdown",
   "metadata": {},
   "source": [
    "## **Load of fitted models**"
   ]
  },
  {
   "cell_type": "code",
   "execution_count": 2,
   "metadata": {},
   "outputs": [],
   "source": [
    "lr_pipeline = joblib.load(open('../models/lr_pipeline.json', 'rb'))\n",
    "GBR_model = joblib.load(open('../models/GBR_model.json', 'rb'))\n",
    "RF_model = joblib.load(open('../models/RF_model.json', 'rb'))"
   ]
  },
  {
   "cell_type": "code",
   "execution_count": 9,
   "metadata": {},
   "outputs": [
    {
     "data": {
      "text/plain": [
       "array([ 1.50000e+01,  0.00000e+00,  5.00000e+00,  2.00000e+01,\n",
       "        2.00000e+00,  0.00000e+00, -6.82700e+00, -8.03000e-01,\n",
       "        1.82406e+00, -6.24500e+00,  5.08000e-01,  1.62684e+00,\n",
       "       -6.69200e+00,  2.03000e-01,  3.98497e+00,  0.00000e+00,\n",
       "        0.00000e+00,  0.00000e+00, -6.40300e+00, -1.50700e+00,\n",
       "        3.99000e-03, -6.46500e+00, -1.67400e+00,  7.17820e+00])"
      ]
     },
     "execution_count": 9,
     "metadata": {},
     "output_type": "execute_result"
    }
   ],
   "source": [
    "data_processed = pd.read_csv('../data/processed/data.csv') #import processed dataset\n",
    "data_processed.drop(columns = ['NMR yield (%)'], axis = 1, inplace = True) #delete response\n",
    "data_processed.iloc[0].values #predictors array"
   ]
  },
  {
   "cell_type": "markdown",
   "metadata": {},
   "source": [
    "## **Predicted NMR yield (%)**"
   ]
  },
  {
   "cell_type": "markdown",
   "metadata": {},
   "source": [
    "### Linear Regression model"
   ]
  },
  {
   "cell_type": "code",
   "execution_count": 11,
   "metadata": {},
   "outputs": [
    {
     "name": "stdout",
     "output_type": "stream",
     "text": [
      "Predicted NMR yield = 66 %\n"
     ]
    }
   ],
   "source": [
    "print(f'Predicted NMR yield = {int(lr_pipeline.predict(data_processed.iloc[0].values.reshape(1, -1)))} %')"
   ]
  },
  {
   "cell_type": "markdown",
   "metadata": {},
   "source": [
    "### Gradient Boosting model"
   ]
  },
  {
   "cell_type": "code",
   "execution_count": 5,
   "metadata": {},
   "outputs": [
    {
     "name": "stdout",
     "output_type": "stream",
     "text": [
      "Predicted NMR yield = 76 %\n"
     ]
    }
   ],
   "source": [
    "print(f'Predicted NMR yield = {int(GBR_model.predict(data_processed.iloc[0].values.reshape(1, -1)))} %')"
   ]
  },
  {
   "cell_type": "code",
   "execution_count": 14,
   "metadata": {},
   "outputs": [
    {
     "data": {
      "text/plain": [
       "array([76.77167539, 79.00201532, 52.27140211, 76.3434216 , 76.99902823,\n",
       "       52.99791448, 16.00098273, 27.99780977, 63.0033    , 27.99744391,\n",
       "       55.00121548, 82.0007189 , 87.00391116, 68.81660479, 45.90795699,\n",
       "       99.00127774, 49.79551514, 67.9983984 , 12.99932386, 22.00174822,\n",
       "       22.99871464, 81.20151539, 91.00211919, 80.16619823, 86.00105954,\n",
       "       81.20151539, 85.99875528, 70.15951385, 78.86140136, 65.006377  ,\n",
       "       85.99182435, 41.94398268,  7.00262362,  5.00352558, 22.00720542,\n",
       "       37.00624049, 34.30702993, 34.00163956, 41.00614953, 25.00749191,\n",
       "       21.00441421, 21.00344394, 53.02367365, 34.99787645, 70.99100102,\n",
       "       62.00427455, 39.99795869, 87.0000679 ,  8.0009367 , 12.00253086,\n",
       "       49.99881409, 34.00163956,  7.00262362, 15.00164944, 15.20404539,\n",
       "       16.99848157, 14.00088076, 71.9998066 , 65.00230142, 74.14687277,\n",
       "       85.0007552 , 65.99340621, 70.50123051, 71.00008689, 19.99821217,\n",
       "       55.99861984, 47.00223499, 70.50123051, 67.99830933, 40.9991344 ,\n",
       "       24.00069349, 66.51255565, 57.00229779, 52.00013592, 69.61403184,\n",
       "       35.00032263, 51.83122852, 34.00146663, 86.97258418, 32.00222218,\n",
       "       20.36208753,  9.99818103, 24.00005889, 81.00067434, 83.98947538,\n",
       "       83.99915233, 89.00011854, 65.00968697, 79.00558521, 48.8638904 ,\n",
       "       65.9896272 , 45.00636902, 25.99734289, 29.00127285, 13.01724336,\n",
       "       22.99117477,  3.99539772])"
      ]
     },
     "execution_count": 14,
     "metadata": {},
     "output_type": "execute_result"
    }
   ],
   "source": [
    "data_processed = pd.read_csv('../data/processed/data.csv') #import processed dataset\n",
    "pred = GBR_model.predict(data_processed.drop('NMR yield (%)', axis = 1))\n",
    "pred"
   ]
  },
  {
   "cell_type": "code",
   "execution_count": 62,
   "metadata": {},
   "outputs": [],
   "source": [
    "true_values = data_processed['NMR yield (%)']"
   ]
  },
  {
   "cell_type": "code",
   "execution_count": 22,
   "metadata": {},
   "outputs": [],
   "source": [
    "error = abs(true_values - pred)"
   ]
  },
  {
   "cell_type": "code",
   "execution_count": 67,
   "metadata": {},
   "outputs": [
    {
     "data": {
      "text/html": [
       "<div>\n",
       "<style scoped>\n",
       "    .dataframe tbody tr th:only-of-type {\n",
       "        vertical-align: middle;\n",
       "    }\n",
       "\n",
       "    .dataframe tbody tr th {\n",
       "        vertical-align: top;\n",
       "    }\n",
       "\n",
       "    .dataframe thead th {\n",
       "        text-align: right;\n",
       "    }\n",
       "</style>\n",
       "<table border=\"1\" class=\"dataframe\">\n",
       "  <thead>\n",
       "    <tr style=\"text-align: right;\">\n",
       "      <th></th>\n",
       "      <th>Amount of ligand (mol %)</th>\n",
       "      <th>Amount of base (eq.)</th>\n",
       "      <th>Frequency (Hz)</th>\n",
       "      <th>Temperature(C)</th>\n",
       "      <th>Time (h)</th>\n",
       "      <th>NMR yield (%)</th>\n",
       "      <th>Current type</th>\n",
       "      <th>HOMO_R1</th>\n",
       "      <th>LUMO_R1</th>\n",
       "      <th>MU_R1</th>\n",
       "      <th>...</th>\n",
       "      <th>LUMO_BASE</th>\n",
       "      <th>MU_BASE</th>\n",
       "      <th>HOMO_LIGAND</th>\n",
       "      <th>LUMO_LIGAND</th>\n",
       "      <th>MU_LIGAND</th>\n",
       "      <th>HOMO_ELECTR</th>\n",
       "      <th>LUMO_ELECTR</th>\n",
       "      <th>MU_ELECTR</th>\n",
       "      <th>Predicted NMR yield (%)</th>\n",
       "      <th>Models error</th>\n",
       "    </tr>\n",
       "  </thead>\n",
       "  <tbody>\n",
       "    <tr>\n",
       "      <th>0</th>\n",
       "      <td>15.0</td>\n",
       "      <td>0.0</td>\n",
       "      <td>5.0</td>\n",
       "      <td>20</td>\n",
       "      <td>2</td>\n",
       "      <td>80</td>\n",
       "      <td>0</td>\n",
       "      <td>-6.827</td>\n",
       "      <td>-0.803</td>\n",
       "      <td>1.82406</td>\n",
       "      <td>...</td>\n",
       "      <td>0.000</td>\n",
       "      <td>0.00000</td>\n",
       "      <td>-6.403</td>\n",
       "      <td>-1.507</td>\n",
       "      <td>0.00399</td>\n",
       "      <td>-6.465</td>\n",
       "      <td>-1.674</td>\n",
       "      <td>7.17820</td>\n",
       "      <td>76.771675</td>\n",
       "      <td>3.228325</td>\n",
       "    </tr>\n",
       "    <tr>\n",
       "      <th>1</th>\n",
       "      <td>15.0</td>\n",
       "      <td>0.0</td>\n",
       "      <td>5.0</td>\n",
       "      <td>20</td>\n",
       "      <td>2</td>\n",
       "      <td>79</td>\n",
       "      <td>0</td>\n",
       "      <td>-6.827</td>\n",
       "      <td>-0.803</td>\n",
       "      <td>1.82406</td>\n",
       "      <td>...</td>\n",
       "      <td>0.000</td>\n",
       "      <td>0.00000</td>\n",
       "      <td>-6.611</td>\n",
       "      <td>-1.073</td>\n",
       "      <td>0.00068</td>\n",
       "      <td>-6.465</td>\n",
       "      <td>-1.674</td>\n",
       "      <td>7.17820</td>\n",
       "      <td>79.002015</td>\n",
       "      <td>0.002015</td>\n",
       "    </tr>\n",
       "    <tr>\n",
       "      <th>2</th>\n",
       "      <td>15.0</td>\n",
       "      <td>0.0</td>\n",
       "      <td>5.0</td>\n",
       "      <td>20</td>\n",
       "      <td>2</td>\n",
       "      <td>44</td>\n",
       "      <td>0</td>\n",
       "      <td>-6.827</td>\n",
       "      <td>-0.803</td>\n",
       "      <td>1.82406</td>\n",
       "      <td>...</td>\n",
       "      <td>0.000</td>\n",
       "      <td>0.00000</td>\n",
       "      <td>-6.105</td>\n",
       "      <td>-1.109</td>\n",
       "      <td>1.21559</td>\n",
       "      <td>-6.465</td>\n",
       "      <td>-1.674</td>\n",
       "      <td>7.17820</td>\n",
       "      <td>52.271402</td>\n",
       "      <td>8.271402</td>\n",
       "    </tr>\n",
       "    <tr>\n",
       "      <th>3</th>\n",
       "      <td>10.0</td>\n",
       "      <td>0.0</td>\n",
       "      <td>5.0</td>\n",
       "      <td>20</td>\n",
       "      <td>2</td>\n",
       "      <td>78</td>\n",
       "      <td>0</td>\n",
       "      <td>-6.827</td>\n",
       "      <td>-0.803</td>\n",
       "      <td>1.82406</td>\n",
       "      <td>...</td>\n",
       "      <td>0.000</td>\n",
       "      <td>0.00000</td>\n",
       "      <td>-6.403</td>\n",
       "      <td>-1.507</td>\n",
       "      <td>0.00399</td>\n",
       "      <td>-6.465</td>\n",
       "      <td>-1.674</td>\n",
       "      <td>7.17820</td>\n",
       "      <td>76.343422</td>\n",
       "      <td>1.656578</td>\n",
       "    </tr>\n",
       "    <tr>\n",
       "      <th>4</th>\n",
       "      <td>20.0</td>\n",
       "      <td>0.0</td>\n",
       "      <td>5.0</td>\n",
       "      <td>20</td>\n",
       "      <td>2</td>\n",
       "      <td>77</td>\n",
       "      <td>0</td>\n",
       "      <td>-6.827</td>\n",
       "      <td>-0.803</td>\n",
       "      <td>1.82406</td>\n",
       "      <td>...</td>\n",
       "      <td>0.000</td>\n",
       "      <td>0.00000</td>\n",
       "      <td>-6.403</td>\n",
       "      <td>-1.507</td>\n",
       "      <td>0.00399</td>\n",
       "      <td>-6.465</td>\n",
       "      <td>-1.674</td>\n",
       "      <td>7.17820</td>\n",
       "      <td>76.999028</td>\n",
       "      <td>0.000972</td>\n",
       "    </tr>\n",
       "    <tr>\n",
       "      <th>...</th>\n",
       "      <td>...</td>\n",
       "      <td>...</td>\n",
       "      <td>...</td>\n",
       "      <td>...</td>\n",
       "      <td>...</td>\n",
       "      <td>...</td>\n",
       "      <td>...</td>\n",
       "      <td>...</td>\n",
       "      <td>...</td>\n",
       "      <td>...</td>\n",
       "      <td>...</td>\n",
       "      <td>...</td>\n",
       "      <td>...</td>\n",
       "      <td>...</td>\n",
       "      <td>...</td>\n",
       "      <td>...</td>\n",
       "      <td>...</td>\n",
       "      <td>...</td>\n",
       "      <td>...</td>\n",
       "      <td>...</td>\n",
       "      <td>...</td>\n",
       "    </tr>\n",
       "    <tr>\n",
       "      <th>92</th>\n",
       "      <td>10.0</td>\n",
       "      <td>2.0</td>\n",
       "      <td>2.0</td>\n",
       "      <td>20</td>\n",
       "      <td>8</td>\n",
       "      <td>26</td>\n",
       "      <td>1</td>\n",
       "      <td>-7.332</td>\n",
       "      <td>-1.560</td>\n",
       "      <td>1.37144</td>\n",
       "      <td>...</td>\n",
       "      <td>0.395</td>\n",
       "      <td>1.07275</td>\n",
       "      <td>-6.611</td>\n",
       "      <td>-1.073</td>\n",
       "      <td>0.00068</td>\n",
       "      <td>-6.465</td>\n",
       "      <td>-1.674</td>\n",
       "      <td>7.17820</td>\n",
       "      <td>25.997343</td>\n",
       "      <td>0.002657</td>\n",
       "    </tr>\n",
       "    <tr>\n",
       "      <th>93</th>\n",
       "      <td>10.0</td>\n",
       "      <td>2.0</td>\n",
       "      <td>10.0</td>\n",
       "      <td>20</td>\n",
       "      <td>8</td>\n",
       "      <td>29</td>\n",
       "      <td>1</td>\n",
       "      <td>-7.179</td>\n",
       "      <td>-1.412</td>\n",
       "      <td>2.05234</td>\n",
       "      <td>...</td>\n",
       "      <td>0.395</td>\n",
       "      <td>1.07275</td>\n",
       "      <td>-6.611</td>\n",
       "      <td>-1.073</td>\n",
       "      <td>0.00068</td>\n",
       "      <td>-6.465</td>\n",
       "      <td>-1.674</td>\n",
       "      <td>7.17820</td>\n",
       "      <td>29.001273</td>\n",
       "      <td>0.001273</td>\n",
       "    </tr>\n",
       "    <tr>\n",
       "      <th>94</th>\n",
       "      <td>10.0</td>\n",
       "      <td>10.0</td>\n",
       "      <td>2.0</td>\n",
       "      <td>60</td>\n",
       "      <td>4</td>\n",
       "      <td>13</td>\n",
       "      <td>1</td>\n",
       "      <td>-7.332</td>\n",
       "      <td>-1.560</td>\n",
       "      <td>1.37144</td>\n",
       "      <td>...</td>\n",
       "      <td>-0.286</td>\n",
       "      <td>0.31923</td>\n",
       "      <td>-6.611</td>\n",
       "      <td>-1.073</td>\n",
       "      <td>0.00068</td>\n",
       "      <td>-8.426</td>\n",
       "      <td>0.340</td>\n",
       "      <td>15.23556</td>\n",
       "      <td>13.017243</td>\n",
       "      <td>0.017243</td>\n",
       "    </tr>\n",
       "    <tr>\n",
       "      <th>95</th>\n",
       "      <td>10.0</td>\n",
       "      <td>10.0</td>\n",
       "      <td>2.0</td>\n",
       "      <td>60</td>\n",
       "      <td>4</td>\n",
       "      <td>23</td>\n",
       "      <td>1</td>\n",
       "      <td>-7.347</td>\n",
       "      <td>-2.067</td>\n",
       "      <td>3.16853</td>\n",
       "      <td>...</td>\n",
       "      <td>-0.286</td>\n",
       "      <td>0.31923</td>\n",
       "      <td>-6.611</td>\n",
       "      <td>-1.073</td>\n",
       "      <td>0.00068</td>\n",
       "      <td>-8.426</td>\n",
       "      <td>0.340</td>\n",
       "      <td>15.23556</td>\n",
       "      <td>22.991175</td>\n",
       "      <td>0.008825</td>\n",
       "    </tr>\n",
       "    <tr>\n",
       "      <th>96</th>\n",
       "      <td>10.0</td>\n",
       "      <td>10.0</td>\n",
       "      <td>2.0</td>\n",
       "      <td>60</td>\n",
       "      <td>4</td>\n",
       "      <td>4</td>\n",
       "      <td>1</td>\n",
       "      <td>-6.265</td>\n",
       "      <td>-1.627</td>\n",
       "      <td>2.02474</td>\n",
       "      <td>...</td>\n",
       "      <td>-0.286</td>\n",
       "      <td>0.31923</td>\n",
       "      <td>-6.611</td>\n",
       "      <td>-1.073</td>\n",
       "      <td>0.00068</td>\n",
       "      <td>-8.426</td>\n",
       "      <td>0.340</td>\n",
       "      <td>15.23556</td>\n",
       "      <td>3.995398</td>\n",
       "      <td>0.004602</td>\n",
       "    </tr>\n",
       "  </tbody>\n",
       "</table>\n",
       "<p>97 rows × 27 columns</p>\n",
       "</div>"
      ],
      "text/plain": [
       "    Amount of ligand (mol %)  Amount of base (eq.)  Frequency (Hz)  \\\n",
       "0                       15.0                   0.0             5.0   \n",
       "1                       15.0                   0.0             5.0   \n",
       "2                       15.0                   0.0             5.0   \n",
       "3                       10.0                   0.0             5.0   \n",
       "4                       20.0                   0.0             5.0   \n",
       "..                       ...                   ...             ...   \n",
       "92                      10.0                   2.0             2.0   \n",
       "93                      10.0                   2.0            10.0   \n",
       "94                      10.0                  10.0             2.0   \n",
       "95                      10.0                  10.0             2.0   \n",
       "96                      10.0                  10.0             2.0   \n",
       "\n",
       "    Temperature(C)  Time (h)  NMR yield (%)  Current type  HOMO_R1  LUMO_R1  \\\n",
       "0               20         2             80             0   -6.827   -0.803   \n",
       "1               20         2             79             0   -6.827   -0.803   \n",
       "2               20         2             44             0   -6.827   -0.803   \n",
       "3               20         2             78             0   -6.827   -0.803   \n",
       "4               20         2             77             0   -6.827   -0.803   \n",
       "..             ...       ...            ...           ...      ...      ...   \n",
       "92              20         8             26             1   -7.332   -1.560   \n",
       "93              20         8             29             1   -7.179   -1.412   \n",
       "94              60         4             13             1   -7.332   -1.560   \n",
       "95              60         4             23             1   -7.347   -2.067   \n",
       "96              60         4              4             1   -6.265   -1.627   \n",
       "\n",
       "      MU_R1  ...  LUMO_BASE  MU_BASE  HOMO_LIGAND  LUMO_LIGAND  MU_LIGAND  \\\n",
       "0   1.82406  ...      0.000  0.00000       -6.403       -1.507    0.00399   \n",
       "1   1.82406  ...      0.000  0.00000       -6.611       -1.073    0.00068   \n",
       "2   1.82406  ...      0.000  0.00000       -6.105       -1.109    1.21559   \n",
       "3   1.82406  ...      0.000  0.00000       -6.403       -1.507    0.00399   \n",
       "4   1.82406  ...      0.000  0.00000       -6.403       -1.507    0.00399   \n",
       "..      ...  ...        ...      ...          ...          ...        ...   \n",
       "92  1.37144  ...      0.395  1.07275       -6.611       -1.073    0.00068   \n",
       "93  2.05234  ...      0.395  1.07275       -6.611       -1.073    0.00068   \n",
       "94  1.37144  ...     -0.286  0.31923       -6.611       -1.073    0.00068   \n",
       "95  3.16853  ...     -0.286  0.31923       -6.611       -1.073    0.00068   \n",
       "96  2.02474  ...     -0.286  0.31923       -6.611       -1.073    0.00068   \n",
       "\n",
       "    HOMO_ELECTR  LUMO_ELECTR  MU_ELECTR  Predicted NMR yield (%)  Models error  \n",
       "0        -6.465       -1.674    7.17820                76.771675      3.228325  \n",
       "1        -6.465       -1.674    7.17820                79.002015      0.002015  \n",
       "2        -6.465       -1.674    7.17820                52.271402      8.271402  \n",
       "3        -6.465       -1.674    7.17820                76.343422      1.656578  \n",
       "4        -6.465       -1.674    7.17820                76.999028      0.000972  \n",
       "..          ...          ...        ...                      ...           ...  \n",
       "92       -6.465       -1.674    7.17820                25.997343      0.002657  \n",
       "93       -6.465       -1.674    7.17820                29.001273      0.001273  \n",
       "94       -8.426        0.340   15.23556                13.017243      0.017243  \n",
       "95       -8.426        0.340   15.23556                22.991175      0.008825  \n",
       "96       -8.426        0.340   15.23556                 3.995398      0.004602  \n",
       "\n",
       "[97 rows x 27 columns]"
      ]
     },
     "execution_count": 67,
     "metadata": {},
     "output_type": "execute_result"
    }
   ],
   "source": [
    "final_df = data_processed\n",
    "final_df['Predicted NMR yield (%)'] = pred\n",
    "final_df['Models error'] = error\n",
    "final_df"
   ]
  },
  {
   "cell_type": "code",
   "execution_count": 68,
   "metadata": {},
   "outputs": [],
   "source": [
    "final_df.to_excel('../data/final_data.xlsx', index=False)"
   ]
  },
  {
   "cell_type": "code",
   "execution_count": 51,
   "metadata": {},
   "outputs": [],
   "source": [
    "#dft_r1 = pd.read_excel('../data/calculated_data/DFT_R1.xlsx')\n",
    "#dft_r2 = pd.read_excel('../data/calculated_data/DFT_R2.xlsx')\n",
    "#dft_solv = pd.read_excel('../data/calculated_data/DFT_SOLV.xlsx')\n",
    "#dft_base = pd.read_excel('../data/calculated_data/DFT_BASE.xlsx')\n",
    "#dft_ligand = pd.read_excel('../data/calculated_data/DFT_LIGAND.xlsx')\n",
    "#dft_electr = pd.read_excel('../data/calculated_data/DFT_ELECTR.xlsx')"
   ]
  },
  {
   "cell_type": "code",
   "execution_count": 45,
   "metadata": {},
   "outputs": [],
   "source": [
    "#dft = [dft_r1, dft_r2, dft_solv, dft_base, dft_ligand, dft_electr]"
   ]
  },
  {
   "cell_type": "code",
   "execution_count": 60,
   "metadata": {},
   "outputs": [],
   "source": [
    "#for i in dft:\n",
    "  #final_df = final_df.merge(i, how = 'left')\n",
    "\n",
    "#final_df"
   ]
  },
  {
   "cell_type": "markdown",
   "metadata": {},
   "source": [
    "### Random Forest model"
   ]
  },
  {
   "cell_type": "code",
   "execution_count": null,
   "metadata": {},
   "outputs": [
    {
     "name": "stdout",
     "output_type": "stream",
     "text": [
      "Predicted NMR yield = 75 %\n"
     ]
    }
   ],
   "source": [
    "print(f'Predicted NMR yield = {int(RF_model.predict(data_processed.iloc[0].values.reshape(1, -1)))} %')"
   ]
  }
 ],
 "metadata": {
  "kernelspec": {
   "display_name": "base",
   "language": "python",
   "name": "python3"
  },
  "language_info": {
   "codemirror_mode": {
    "name": "ipython",
    "version": 3
   },
   "file_extension": ".py",
   "mimetype": "text/x-python",
   "name": "python",
   "nbconvert_exporter": "python",
   "pygments_lexer": "ipython3",
   "version": "3.10.13"
  },
  "orig_nbformat": 4
 },
 "nbformat": 4,
 "nbformat_minor": 2
}
