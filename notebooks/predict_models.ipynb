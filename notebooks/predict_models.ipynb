{
 "cells": [
  {
   "cell_type": "code",
   "execution_count": 1,
   "metadata": {},
   "outputs": [],
   "source": [
    "import joblib\n",
    "import pandas as pd\n",
    "import warnings\n",
    "warnings.filterwarnings(\"ignore\")"
   ]
  },
  {
   "cell_type": "markdown",
   "metadata": {},
   "source": [
    "## **Load of fitted models**"
   ]
  },
  {
   "cell_type": "code",
   "execution_count": 2,
   "metadata": {},
   "outputs": [],
   "source": [
    "lr_pipeline = joblib.load(open('../models/ML/lr_pipeline.json', 'rb'))\n",
    "GBR_model = joblib.load(open('../models/ML/GBR_model.json', 'rb'))\n",
    "RF_model = joblib.load(open('../models/ML/RF_model.json', 'rb'))"
   ]
  },
  {
   "cell_type": "code",
   "execution_count": 3,
   "metadata": {},
   "outputs": [
    {
     "data": {
      "text/plain": [
       "array([ 1.50000e+01,  0.00000e+00,  5.00000e+00,  2.00000e+01,\n",
       "        2.00000e+00,  0.00000e+00, -6.82700e+00, -8.03000e-01,\n",
       "        1.82406e+00, -6.24500e+00,  5.08000e-01,  1.62684e+00,\n",
       "       -6.69200e+00,  2.03000e-01,  3.98497e+00,  0.00000e+00,\n",
       "        0.00000e+00,  0.00000e+00, -6.40300e+00, -1.50700e+00,\n",
       "        3.99000e-03, -6.46500e+00, -1.67400e+00,  7.17820e+00])"
      ]
     },
     "execution_count": 3,
     "metadata": {},
     "output_type": "execute_result"
    }
   ],
   "source": [
    "data_processed = pd.read_csv('../data/processed/data.csv') #import processed dataset\n",
    "data_processed.drop(columns = ['NMR yield (%)'], axis = 1, inplace = True) #delete response\n",
    "data_processed.iloc[0].values #predictors array"
   ]
  },
  {
   "cell_type": "markdown",
   "metadata": {},
   "source": [
    "## **Predicted NMR yield (%)**"
   ]
  },
  {
   "cell_type": "markdown",
   "metadata": {},
   "source": [
    "### Linear Regression model"
   ]
  },
  {
   "cell_type": "code",
   "execution_count": 4,
   "metadata": {},
   "outputs": [
    {
     "name": "stdout",
     "output_type": "stream",
     "text": [
      "Predicted NMR yield = 66 %\n"
     ]
    }
   ],
   "source": [
    "print(f'Predicted NMR yield = {int(lr_pipeline.predict(data_processed.iloc[0].values.reshape(1, -1)))} %')"
   ]
  },
  {
   "cell_type": "markdown",
   "metadata": {},
   "source": [
    "### Gradient Boosting model"
   ]
  },
  {
   "cell_type": "code",
   "execution_count": 5,
   "metadata": {},
   "outputs": [
    {
     "name": "stdout",
     "output_type": "stream",
     "text": [
      "Predicted NMR yield = 76 %\n"
     ]
    }
   ],
   "source": [
    "print(f'Predicted NMR yield = {int(GBR_model.predict(data_processed.iloc[0].values.reshape(1, -1)))} %')"
   ]
  },
  {
   "cell_type": "markdown",
   "metadata": {},
   "source": [
    "### Random Forest model"
   ]
  },
  {
   "cell_type": "code",
   "execution_count": 6,
   "metadata": {},
   "outputs": [
    {
     "name": "stdout",
     "output_type": "stream",
     "text": [
      "Predicted NMR yield = 75 %\n"
     ]
    }
   ],
   "source": [
    "print(f'Predicted NMR yield = {int(RF_model.predict(data_processed.iloc[0].values.reshape(1, -1)))} %')"
   ]
  }
 ],
 "metadata": {
  "kernelspec": {
   "display_name": "base",
   "language": "python",
   "name": "python3"
  },
  "language_info": {
   "codemirror_mode": {
    "name": "ipython",
    "version": 3
   },
   "file_extension": ".py",
   "mimetype": "text/x-python",
   "name": "python",
   "nbconvert_exporter": "python",
   "pygments_lexer": "ipython3",
   "version": "3.11.4"
  },
  "orig_nbformat": 4
 },
 "nbformat": 4,
 "nbformat_minor": 2
}
